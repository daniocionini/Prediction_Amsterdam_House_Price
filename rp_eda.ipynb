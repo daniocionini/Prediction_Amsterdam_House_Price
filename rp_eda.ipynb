{
 "cells": [
  {
   "attachments": {},
   "cell_type": "markdown",
   "metadata": {},
   "source": [
    "### Exploratory Data Analysis"
   ]
  },
  {
   "cell_type": "code",
   "execution_count": 1,
   "metadata": {},
   "outputs": [],
   "source": [
    "from configurations_dataprep import * # import the configuration file created\n",
    "import matplotlib.pyplot as plt\n",
    "import seaborn as sns\n",
    "from IPython.display import display"
   ]
  },
  {
   "attachments": {},
   "cell_type": "markdown",
   "metadata": {},
   "source": [
    "For this EDA we will use the TRAIN dataset generated during data preparation"
   ]
  },
  {
   "cell_type": "code",
   "execution_count": 2,
   "metadata": {},
   "outputs": [
    {
     "data": {
      "text/html": [
       "<div>\n",
       "<style scoped>\n",
       "    .dataframe tbody tr th:only-of-type {\n",
       "        vertical-align: middle;\n",
       "    }\n",
       "\n",
       "    .dataframe tbody tr th {\n",
       "        vertical-align: top;\n",
       "    }\n",
       "\n",
       "    .dataframe thead th {\n",
       "        text-align: right;\n",
       "    }\n",
       "</style>\n",
       "<table border=\"1\" class=\"dataframe\">\n",
       "  <thead>\n",
       "    <tr style=\"text-align: right;\">\n",
       "      <th></th>\n",
       "      <th>Price</th>\n",
       "      <th>Unnamed: 0</th>\n",
       "      <th>Address</th>\n",
       "      <th>Zip</th>\n",
       "      <th>Area</th>\n",
       "      <th>Room</th>\n",
       "      <th>Lon</th>\n",
       "      <th>Lat</th>\n",
       "    </tr>\n",
       "  </thead>\n",
       "  <tbody>\n",
       "    <tr>\n",
       "      <th>0</th>\n",
       "      <td>425000.0</td>\n",
       "      <td>98</td>\n",
       "      <td>Lamarckhof 11 I, Amsterdam</td>\n",
       "      <td>1098 TK</td>\n",
       "      <td>68</td>\n",
       "      <td>3</td>\n",
       "      <td>4.944251</td>\n",
       "      <td>52.352317</td>\n",
       "    </tr>\n",
       "    <tr>\n",
       "      <th>1</th>\n",
       "      <td>520000.0</td>\n",
       "      <td>228</td>\n",
       "      <td>Kiefskamp 24, Amsterdam</td>\n",
       "      <td>1082 KA</td>\n",
       "      <td>80</td>\n",
       "      <td>2</td>\n",
       "      <td>4.872336</td>\n",
       "      <td>52.330330</td>\n",
       "    </tr>\n",
       "    <tr>\n",
       "      <th>2</th>\n",
       "      <td>700000.0</td>\n",
       "      <td>693</td>\n",
       "      <td>Latherusstraat 54, Amsterdam</td>\n",
       "      <td>1032 EC</td>\n",
       "      <td>123</td>\n",
       "      <td>6</td>\n",
       "      <td>4.915060</td>\n",
       "      <td>52.393449</td>\n",
       "    </tr>\n",
       "    <tr>\n",
       "      <th>3</th>\n",
       "      <td>295000.0</td>\n",
       "      <td>588</td>\n",
       "      <td>1e Kekerstraat 119, Amsterdam</td>\n",
       "      <td>1104 VA</td>\n",
       "      <td>91</td>\n",
       "      <td>3</td>\n",
       "      <td>4.981371</td>\n",
       "      <td>52.313749</td>\n",
       "    </tr>\n",
       "    <tr>\n",
       "      <th>4</th>\n",
       "      <td>650000.0</td>\n",
       "      <td>885</td>\n",
       "      <td>Nieuwevaartweg, Amsterdam</td>\n",
       "      <td>1019 AL</td>\n",
       "      <td>87</td>\n",
       "      <td>4</td>\n",
       "      <td>4.954376</td>\n",
       "      <td>52.367982</td>\n",
       "    </tr>\n",
       "    <tr>\n",
       "      <th>5</th>\n",
       "      <td>275000.0</td>\n",
       "      <td>658</td>\n",
       "      <td>Tefelenstraat 82, Amsterdam</td>\n",
       "      <td>1107 SM</td>\n",
       "      <td>111</td>\n",
       "      <td>5</td>\n",
       "      <td>4.970438</td>\n",
       "      <td>52.294244</td>\n",
       "    </tr>\n",
       "    <tr>\n",
       "      <th>6</th>\n",
       "      <td>549001.0</td>\n",
       "      <td>801</td>\n",
       "      <td>Lange Stammerdijk 1 G, Amsterdam</td>\n",
       "      <td>1109 BK</td>\n",
       "      <td>107</td>\n",
       "      <td>4</td>\n",
       "      <td>5.016522</td>\n",
       "      <td>52.305075</td>\n",
       "    </tr>\n",
       "    <tr>\n",
       "      <th>7</th>\n",
       "      <td>350000.0</td>\n",
       "      <td>26</td>\n",
       "      <td>Bruinvisstraat 36, Amsterdam</td>\n",
       "      <td>1035 HG</td>\n",
       "      <td>89</td>\n",
       "      <td>3</td>\n",
       "      <td>4.885160</td>\n",
       "      <td>52.423543</td>\n",
       "    </tr>\n",
       "    <tr>\n",
       "      <th>8</th>\n",
       "      <td>485000.0</td>\n",
       "      <td>85</td>\n",
       "      <td>Admiraliteitstraat 48, Amsterdam</td>\n",
       "      <td>1018 KP</td>\n",
       "      <td>73</td>\n",
       "      <td>4</td>\n",
       "      <td>4.924634</td>\n",
       "      <td>52.368555</td>\n",
       "    </tr>\n",
       "    <tr>\n",
       "      <th>9</th>\n",
       "      <td>540000.0</td>\n",
       "      <td>11</td>\n",
       "      <td>Sloterkade 152 1, Amsterdam</td>\n",
       "      <td>1058 HN</td>\n",
       "      <td>69</td>\n",
       "      <td>3</td>\n",
       "      <td>4.851985</td>\n",
       "      <td>52.351244</td>\n",
       "    </tr>\n",
       "  </tbody>\n",
       "</table>\n",
       "</div>"
      ],
      "text/plain": [
       "      Price  Unnamed: 0                           Address      Zip  Area   \n",
       "0  425000.0          98        Lamarckhof 11 I, Amsterdam  1098 TK    68  \\\n",
       "1  520000.0         228           Kiefskamp 24, Amsterdam  1082 KA    80   \n",
       "2  700000.0         693      Latherusstraat 54, Amsterdam  1032 EC   123   \n",
       "3  295000.0         588     1e Kekerstraat 119, Amsterdam  1104 VA    91   \n",
       "4  650000.0         885         Nieuwevaartweg, Amsterdam  1019 AL    87   \n",
       "5  275000.0         658       Tefelenstraat 82, Amsterdam  1107 SM   111   \n",
       "6  549001.0         801  Lange Stammerdijk 1 G, Amsterdam  1109 BK   107   \n",
       "7  350000.0          26      Bruinvisstraat 36, Amsterdam  1035 HG    89   \n",
       "8  485000.0          85  Admiraliteitstraat 48, Amsterdam  1018 KP    73   \n",
       "9  540000.0          11       Sloterkade 152 1, Amsterdam  1058 HN    69   \n",
       "\n",
       "   Room       Lon        Lat  \n",
       "0     3  4.944251  52.352317  \n",
       "1     2  4.872336  52.330330  \n",
       "2     6  4.915060  52.393449  \n",
       "3     3  4.981371  52.313749  \n",
       "4     4  4.954376  52.367982  \n",
       "5     5  4.970438  52.294244  \n",
       "6     4  5.016522  52.305075  \n",
       "7     3  4.885160  52.423543  \n",
       "8     4  4.924634  52.368555  \n",
       "9     3  4.851985  52.351244  "
      ]
     },
     "execution_count": 2,
     "metadata": {},
     "output_type": "execute_result"
    }
   ],
   "source": [
    "data_train.head(10) # preview the TRAIN dataset"
   ]
  },
  {
   "cell_type": "code",
   "execution_count": 3,
   "metadata": {},
   "outputs": [
    {
     "data": {
      "text/plain": [
       "Index(['Price', 'Address', 'Zip', 'Area', 'Room', 'Lon', 'Lat'], dtype='object')"
      ]
     },
     "execution_count": 3,
     "metadata": {},
     "output_type": "execute_result"
    }
   ],
   "source": [
    "data_train = data_train.drop('Unnamed: 0', axis=1) # Remove 'Unnamed= 0' column\n",
    "data_train.columns"
   ]
  },
  {
   "attachments": {},
   "cell_type": "markdown",
   "metadata": {},
   "source": [
    "One step is to save the type of features into a dataset for later use"
   ]
  },
  {
   "cell_type": "code",
   "execution_count": 4,
   "metadata": {},
   "outputs": [
    {
     "data": {
      "text/html": [
       "<div>\n",
       "<style scoped>\n",
       "    .dataframe tbody tr th:only-of-type {\n",
       "        vertical-align: middle;\n",
       "    }\n",
       "\n",
       "    .dataframe tbody tr th {\n",
       "        vertical-align: top;\n",
       "    }\n",
       "\n",
       "    .dataframe thead th {\n",
       "        text-align: right;\n",
       "    }\n",
       "</style>\n",
       "<table border=\"1\" class=\"dataframe\">\n",
       "  <thead>\n",
       "    <tr style=\"text-align: right;\">\n",
       "      <th></th>\n",
       "      <th>Price</th>\n",
       "      <th>Address</th>\n",
       "      <th>Zip</th>\n",
       "      <th>Area</th>\n",
       "      <th>Room</th>\n",
       "      <th>Lon</th>\n",
       "      <th>Lat</th>\n",
       "    </tr>\n",
       "  </thead>\n",
       "  <tbody>\n",
       "    <tr>\n",
       "      <th>data_type</th>\n",
       "      <td>continuous</td>\n",
       "      <td>nominal</td>\n",
       "      <td>nominal</td>\n",
       "      <td>continuous</td>\n",
       "      <td>discrete</td>\n",
       "      <td>continuous</td>\n",
       "      <td>continuous</td>\n",
       "    </tr>\n",
       "  </tbody>\n",
       "</table>\n",
       "</div>"
      ],
      "text/plain": [
       "                Price  Address      Zip        Area      Room         Lon   \n",
       "data_type  continuous  nominal  nominal  continuous  discrete  continuous  \\\n",
       "\n",
       "                  Lat  \n",
       "data_type  continuous  "
      ]
     },
     "execution_count": 4,
     "metadata": {},
     "output_type": "execute_result"
    }
   ],
   "source": [
    "data_type_df = pd.DataFrame.from_dict(\n",
    "    {\n",
    "        \"Price\": \"continuous\", # target feature\n",
    "        \"Address\": \"nominal\",\n",
    "        \"Zip\": \"nominal\",\n",
    "        \"Area\": \"continuous\",\n",
    "        \"Room\": \"discrete\",\n",
    "        \"Lon\": \"continuous\",\n",
    "        \"Lat\": \"continuous\",\n",
    "    },\n",
    "    orient=\"index\",\n",
    "    columns=[\"data_type\"],\n",
    ")\n",
    "data_type_df.transpose()"
   ]
  },
  {
   "attachments": {},
   "cell_type": "markdown",
   "metadata": {},
   "source": [
    "##### Missing Values"
   ]
  },
  {
   "cell_type": "code",
   "execution_count": 5,
   "metadata": {},
   "outputs": [
    {
     "data": {
      "text/html": [
       "<div>\n",
       "<style scoped>\n",
       "    .dataframe tbody tr th:only-of-type {\n",
       "        vertical-align: middle;\n",
       "    }\n",
       "\n",
       "    .dataframe tbody tr th {\n",
       "        vertical-align: top;\n",
       "    }\n",
       "\n",
       "    .dataframe thead th {\n",
       "        text-align: right;\n",
       "    }\n",
       "</style>\n",
       "<table border=\"1\" class=\"dataframe\">\n",
       "  <thead>\n",
       "    <tr style=\"text-align: right;\">\n",
       "      <th></th>\n",
       "      <th>Price</th>\n",
       "      <th>Address</th>\n",
       "      <th>Zip</th>\n",
       "      <th>Area</th>\n",
       "      <th>Room</th>\n",
       "      <th>Lon</th>\n",
       "      <th>Lat</th>\n",
       "    </tr>\n",
       "  </thead>\n",
       "  <tbody>\n",
       "    <tr>\n",
       "      <th>11</th>\n",
       "      <td>NaN</td>\n",
       "      <td>Haarlemmerweg 705, Amsterdam</td>\n",
       "      <td>1067 HP</td>\n",
       "      <td>366</td>\n",
       "      <td>12</td>\n",
       "      <td>4.787874</td>\n",
       "      <td>52.383877</td>\n",
       "    </tr>\n",
       "    <tr>\n",
       "      <th>132</th>\n",
       "      <td>NaN</td>\n",
       "      <td>Falckstraat 47 A, Amsterdam</td>\n",
       "      <td>1017 VV</td>\n",
       "      <td>147</td>\n",
       "      <td>3</td>\n",
       "      <td>4.897454</td>\n",
       "      <td>52.360707</td>\n",
       "    </tr>\n",
       "    <tr>\n",
       "      <th>456</th>\n",
       "      <td>NaN</td>\n",
       "      <td>Zeeburgerkade 760, Amsterdam</td>\n",
       "      <td>1019 HT</td>\n",
       "      <td>107</td>\n",
       "      <td>3</td>\n",
       "      <td>4.945022</td>\n",
       "      <td>52.369244</td>\n",
       "    </tr>\n",
       "    <tr>\n",
       "      <th>593</th>\n",
       "      <td>NaN</td>\n",
       "      <td>Suikerplein 16, Amsterdam</td>\n",
       "      <td>1013 CK</td>\n",
       "      <td>81</td>\n",
       "      <td>3</td>\n",
       "      <td>4.880976</td>\n",
       "      <td>52.389623</td>\n",
       "    </tr>\n",
       "  </tbody>\n",
       "</table>\n",
       "</div>"
      ],
      "text/plain": [
       "     Price                       Address      Zip  Area  Room       Lon   \n",
       "11     NaN  Haarlemmerweg 705, Amsterdam  1067 HP   366    12  4.787874  \\\n",
       "132    NaN   Falckstraat 47 A, Amsterdam  1017 VV   147     3  4.897454   \n",
       "456    NaN  Zeeburgerkade 760, Amsterdam  1019 HT   107     3  4.945022   \n",
       "593    NaN     Suikerplein 16, Amsterdam  1013 CK    81     3  4.880976   \n",
       "\n",
       "           Lat  \n",
       "11   52.383877  \n",
       "132  52.360707  \n",
       "456  52.369244  \n",
       "593  52.389623  "
      ]
     },
     "metadata": {},
     "output_type": "display_data"
    }
   ],
   "source": [
    "# preview only the missing values only\n",
    "display(data_train[data_train.isna().any(axis=1)])"
   ]
  },
  {
   "cell_type": "code",
   "execution_count": 6,
   "metadata": {},
   "outputs": [],
   "source": [
    "# remove rows with missing values.\n",
    "# In this case they are not going to make a huge difference in our predictions\n",
    "data_train = data_train.dropna()"
   ]
  },
  {
   "attachments": {},
   "cell_type": "markdown",
   "metadata": {},
   "source": [
    "### Data Visualization"
   ]
  },
  {
   "attachments": {},
   "cell_type": "markdown",
   "metadata": {},
   "source": [
    "**Nominal Distributions**"
   ]
  },
  {
   "cell_type": "code",
   "execution_count": 8,
   "metadata": {},
   "outputs": [],
   "source": [
    "# get the list of features\n",
    "list_nominal = data_type_df.loc[lambda x: x[\"data_type\"] == \"nominal\"].index "
   ]
  },
  {
   "attachments": {},
   "cell_type": "markdown",
   "metadata": {},
   "source": [
    "**Ordinal Distributions**"
   ]
  },
  {
   "cell_type": "code",
   "execution_count": 9,
   "metadata": {},
   "outputs": [],
   "source": [
    "# get the list of features\n",
    "list_ordinal = data_type_df.loc[lambda x: x[\"data_type\"] == \"ordinal\"].index "
   ]
  },
  {
   "attachments": {},
   "cell_type": "markdown",
   "metadata": {},
   "source": [
    "**Discrete Distributions**"
   ]
  },
  {
   "cell_type": "code",
   "execution_count": 10,
   "metadata": {},
   "outputs": [],
   "source": [
    "# get the list of features\n",
    "list_discrete = data_type_df.loc[lambda x: x[\"data_type\"] == \"discrete\"].index "
   ]
  },
  {
   "cell_type": "code",
   "execution_count": 11,
   "metadata": {},
   "outputs": [
    {
     "data": {
      "text/plain": [
       "<Axes: xlabel='Room', ylabel='Count'>"
      ]
     },
     "execution_count": 11,
     "metadata": {},
     "output_type": "execute_result"
    },
    {
     "data": {
      "image/png": "[encoded data removed]",
      "text/plain": [
       "<Figure size 640x480 with 1 Axes>"
      ]
     },
     "metadata": {},
     "output_type": "display_data"
    }
   ],
   "source": [
    "# visualize the distribution for discrete features\n",
    "sns.histplot(data=data_train, x=list_discrete[0], binwidth=3, bins=40, discrete=True)"
   ]
  },
  {
   "attachments": {},
   "cell_type": "markdown",
   "metadata": {},
   "source": [
    "**Continuous Distributions**"
   ]
  },
  {
   "cell_type": "code",
   "execution_count": 12,
   "metadata": {},
   "outputs": [],
   "source": [
    "# get the list of features\n",
    "list_continuous = data_type_df.loc[lambda x: x[\"data_type\"] == \"continuous\"].index "
   ]
  },
  {
   "cell_type": "code",
   "execution_count": 13,
   "metadata": {},
   "outputs": [
    {
     "data": {
      "image/png": "[encoded data removed]",
      "text/plain": [
       "<Figure size 1000x400 with 4 Axes>"
      ]
     },
     "metadata": {},
     "output_type": "display_data"
    }
   ],
   "source": [
    "# visualize the distribution for continuous features\n",
    "fig, axs = plt.subplots(nrows=1, ncols=4, figsize=(10, 4))\n",
    "fig.tight_layout(w_pad=1.0)\n",
    "\n",
    "for i in range(0, axs.shape[0]):\n",
    "    sns.histplot(data=data_train, x=list_continuous[i], discrete=False, ax=axs[i])"
   ]
  },
  {
   "attachments": {},
   "cell_type": "markdown",
   "metadata": {},
   "source": [
    "**Key Results**\n",
    "\n",
    "- ```Price``` and ```Area``` are highly right-skewed. Wereas ```Lon``` and ```Lat``` (coordinates) are fairly normally distributed (*Gaussian Distribution*).\n",
    "- ```Room``` seems to be slightly right-skewed."
   ]
  },
  {
   "attachments": {},
   "cell_type": "markdown",
   "metadata": {},
   "source": [
    "### Outliers Analysis"
   ]
  },
  {
   "cell_type": "code",
   "execution_count": 14,
   "metadata": {},
   "outputs": [
    {
     "data": {
      "text/html": [
       "<div>\n",
       "<style scoped>\n",
       "    .dataframe tbody tr th:only-of-type {\n",
       "        vertical-align: middle;\n",
       "    }\n",
       "\n",
       "    .dataframe tbody tr th {\n",
       "        vertical-align: top;\n",
       "    }\n",
       "\n",
       "    .dataframe thead th {\n",
       "        text-align: right;\n",
       "    }\n",
       "</style>\n",
       "<table border=\"1\" class=\"dataframe\">\n",
       "  <thead>\n",
       "    <tr style=\"text-align: right;\">\n",
       "      <th></th>\n",
       "      <th>mean</th>\n",
       "      <th>3xstd</th>\n",
       "      <th>n outlier (3 x std)</th>\n",
       "      <th>% outlier (3 x std)</th>\n",
       "    </tr>\n",
       "  </thead>\n",
       "  <tbody>\n",
       "    <tr>\n",
       "      <th>Room</th>\n",
       "      <td>3.54</td>\n",
       "      <td>4.50</td>\n",
       "      <td>9</td>\n",
       "      <td>1.0%</td>\n",
       "    </tr>\n",
       "    <tr>\n",
       "      <th>Price</th>\n",
       "      <td>605929.67</td>\n",
       "      <td>1456688.11</td>\n",
       "      <td>11</td>\n",
       "      <td>1.0%</td>\n",
       "    </tr>\n",
       "    <tr>\n",
       "      <th>Area</th>\n",
       "      <td>93.97</td>\n",
       "      <td>157.02</td>\n",
       "      <td>12</td>\n",
       "      <td>2.0%</td>\n",
       "    </tr>\n",
       "    <tr>\n",
       "      <th>Lon</th>\n",
       "      <td>4.89</td>\n",
       "      <td>0.16</td>\n",
       "      <td>0</td>\n",
       "      <td>0.0%</td>\n",
       "    </tr>\n",
       "    <tr>\n",
       "      <th>Lat</th>\n",
       "      <td>52.36</td>\n",
       "      <td>0.07</td>\n",
       "      <td>0</td>\n",
       "      <td>0.0%</td>\n",
       "    </tr>\n",
       "  </tbody>\n",
       "</table>\n",
       "</div>"
      ],
      "text/plain": [
       "            mean       3xstd  n outlier (3 x std) % outlier (3 x std)\n",
       "Room        3.54        4.50                    9                1.0%\n",
       "Price  605929.67  1456688.11                   11                1.0%\n",
       "Area       93.97      157.02                   12                2.0%\n",
       "Lon         4.89        0.16                    0                0.0%\n",
       "Lat        52.36        0.07                    0                0.0%"
      ]
     },
     "metadata": {},
     "output_type": "display_data"
    },
    {
     "name": "stdout",
     "output_type": "stream",
     "text": [
      "Note: outliers are defined e.g. as values above the mean + 3 x std\n"
     ]
    }
   ],
   "source": [
    "# initialize empty dataframe\n",
    "df_outlier = pd.DataFrame()\n",
    "\n",
    "# select threshold between {3,4}\n",
    "thr = 3\n",
    "\n",
    "# generate summary of outlier\n",
    "for feat in list(list_discrete) + list(list_continuous):\n",
    "    df_outlier = pd.concat(\n",
    "        [\n",
    "            df_outlier,\n",
    "            pd.DataFrame(\n",
    "                data={\n",
    "                    f\"mean\": round(data_train[feat].mean(), 2),\n",
    "                    f\"{thr}xstd\": round(thr * data_train[feat].std(), 2),\n",
    "                    f\"n outlier ({thr} x std)\": data_train.loc[\n",
    "                        lambda x: x[feat] > x[feat].mean() + thr * x[feat].std(), feat\n",
    "                    ].count(),\n",
    "                    f\"% outlier ({thr} x std)\": str(\n",
    "                        round(\n",
    "                            data_train.loc[\n",
    "                                lambda x: x[feat]\n",
    "                                > x[feat].mean() + thr * x[feat].std(),\n",
    "                                feat,\n",
    "                            ].count()\n",
    "                            / data_train.shape[0],\n",
    "                            2,\n",
    "                        )\n",
    "                        * 100\n",
    "                    )\n",
    "                    + \"%\",\n",
    "                },\n",
    "                index=[feat],\n",
    "            ),\n",
    "        ]\n",
    "    )\n",
    "\n",
    "display(df_outlier)\n",
    "print(\"Note: outliers are defined e.g. as values above the mean + 3 x std\")"
   ]
  },
  {
   "attachments": {},
   "cell_type": "markdown",
   "metadata": {},
   "source": [
    "**EDA Summary**<br>\n",
    "<br>\n",
    "- The data includes:\n",
    "    - 4 continuous features\n",
    "    - 1 descrete feature\n",
    "    - 2 nominal features\n",
    "- Missing values were 4 only on target feature ```Price```. Missing values have been removed as they will not affet prediction of our model.\n",
    "- Distributions\n",
    "    - Discrete feature ```Room``` slightly right-skewed\n",
    "    - Continuous features ```Price``` and ```Area``` heavily right-skewed while ```Lon``` and ```Lat``` (coordinates) are fairly normally distributed (*Gaussian Distribution*)\n",
    "- Transformations\n",
    "    - Log-transformation for normalizing highly skewed distributions\n",
    "    - Clustering to limit group imbalance, that will also limit skewness\n",
    "    - Feature engineering might be useful to improve the model generalization"
   ]
  },
  {
   "attachments": {},
   "cell_type": "markdown",
   "metadata": {},
   "source": [
    "#### Summary Statistics"
   ]
  },
  {
   "cell_type": "code",
   "execution_count": 15,
   "metadata": {},
   "outputs": [
    {
     "name": "stdout",
     "output_type": "stream",
     "text": [
      "o Dutch House Price has a mean (std) of 605929 (485562) EUR\n",
      "o The Median value of Price is 465000 EUR\n",
      "o The Mininum value of Price is 175000 EUR with an Area of 28 m2 and 4 room\n",
      "o The Maximum value of Price is 5950000 EUR with an Area of 40 m2 and 2 room\n",
      "o 25% and 75% of the Dutch House Price are 350000 and 688750 EUR, respectively\n"
     ]
    }
   ],
   "source": [
    "# for TARGET feature 'Price'\n",
    "print(\n",
    "    f\"o Dutch House {TARGET} has a mean (std) of {int(data_train[TARGET].mean())} ({int(data_train[TARGET].std())}) EUR\"\n",
    ")\n",
    "print(f\"o The Median value of {TARGET} is {int(data_train[TARGET].median())} EUR\")\n",
    "print(\n",
    "    f\"o The Mininum value of {TARGET} is {int(data_train[TARGET].min())} EUR with an Area of {data_train.loc[data_train[TARGET].idxmin(), 'Area']} m2 and {data_train.loc[data[TARGET].idxmin(), 'Room']} room\"\n",
    ")\n",
    "print(\n",
    "    f\"o The Maximum value of {TARGET} is {int(data_train[TARGET].max())} EUR with an Area of {data_train.loc[data[TARGET].idxmax(), 'Area']} m2 and {data_train.loc[data[TARGET].idxmax(), 'Room']} room\"\n",
    ")\n",
    "print(\n",
    "    f\"o 25% and 75% of the Dutch House {TARGET} are {int(data_train[TARGET].quantile(0.25))} and {int(data_train[TARGET].quantile(0.75))} EUR, respectively\"\n",
    ")"
   ]
  }
 ],
 "metadata": {
  "kernelspec": {
   "display_name": "Python 3",
   "language": "python",
   "name": "python3"
  },
  "language_info": {
   "codemirror_mode": {
    "name": "ipython",
    "version": 3
   },
   "file_extension": ".py",
   "mimetype": "text/x-python",
   "name": "python",
   "nbconvert_exporter": "python",
   "pygments_lexer": "ipython3",
   "version": "3.10.11"
  },
  "orig_nbformat": 4
 },
 "nbformat": 4,
 "nbformat_minor": 2
}
