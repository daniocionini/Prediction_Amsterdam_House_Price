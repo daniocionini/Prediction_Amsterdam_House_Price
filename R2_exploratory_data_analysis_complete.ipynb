{
 "cells": [
  {
   "attachments": {},
   "cell_type": "markdown",
   "metadata": {},
   "source": [
    "# 2️⃣ Exploratory Data Analysis (EDA)\n",
    "**designed by:** [datamover.ai](https://www.datamover.ai)"
   ]
  },
  {
   "cell_type": "code",
   "execution_count": 18,
   "metadata": {},
   "outputs": [],
   "source": [
    "import matplotlib.pyplot as plt\n",
    "import numpy as np\n",
    "import pandas as pd\n",
    "import seaborn as sns\n",
    "from IPython.display import display\n",
    "\n",
    "# Set random seed\n",
    "np.random.seed(42)"
   ]
  },
  {
   "attachments": {},
   "cell_type": "markdown",
   "metadata": {},
   "source": [
    "**1 Load train set and sample the dataset to a manageable size if necessary**"
   ]
  },
  {
   "cell_type": "code",
   "execution_count": 9,
   "metadata": {},
   "outputs": [
    {
     "data": {
      "text/html": [
       "<div>\n",
       "<style scoped>\n",
       "    .dataframe tbody tr th:only-of-type {\n",
       "        vertical-align: middle;\n",
       "    }\n",
       "\n",
       "    .dataframe tbody tr th {\n",
       "        vertical-align: top;\n",
       "    }\n",
       "\n",
       "    .dataframe thead th {\n",
       "        text-align: right;\n",
       "    }\n",
       "</style>\n",
       "<table border=\"1\" class=\"dataframe\">\n",
       "  <thead>\n",
       "    <tr style=\"text-align: right;\">\n",
       "      <th></th>\n",
       "      <th>Price</th>\n",
       "      <th>Address</th>\n",
       "      <th>Zip</th>\n",
       "      <th>Area</th>\n",
       "      <th>Room</th>\n",
       "      <th>Lon</th>\n",
       "      <th>Lat</th>\n",
       "    </tr>\n",
       "  </thead>\n",
       "  <tbody>\n",
       "    <tr>\n",
       "      <th>0</th>\n",
       "      <td>425000.0</td>\n",
       "      <td>Lamarckhof 11 I, Amsterdam</td>\n",
       "      <td>1098 TK</td>\n",
       "      <td>68</td>\n",
       "      <td>3</td>\n",
       "      <td>4.944251</td>\n",
       "      <td>52.352317</td>\n",
       "    </tr>\n",
       "    <tr>\n",
       "      <th>1</th>\n",
       "      <td>520000.0</td>\n",
       "      <td>Kiefskamp 24, Amsterdam</td>\n",
       "      <td>1082 KA</td>\n",
       "      <td>80</td>\n",
       "      <td>2</td>\n",
       "      <td>4.872336</td>\n",
       "      <td>52.330330</td>\n",
       "    </tr>\n",
       "    <tr>\n",
       "      <th>2</th>\n",
       "      <td>700000.0</td>\n",
       "      <td>Latherusstraat 54, Amsterdam</td>\n",
       "      <td>1032 EC</td>\n",
       "      <td>123</td>\n",
       "      <td>6</td>\n",
       "      <td>4.915060</td>\n",
       "      <td>52.393449</td>\n",
       "    </tr>\n",
       "  </tbody>\n",
       "</table>\n",
       "</div>"
      ],
      "text/plain": [
       "      Price                       Address      Zip  Area  Room       Lon  \\\n",
       "0  425000.0    Lamarckhof 11 I, Amsterdam  1098 TK    68     3  4.944251   \n",
       "1  520000.0       Kiefskamp 24, Amsterdam  1082 KA    80     2  4.872336   \n",
       "2  700000.0  Latherusstraat 54, Amsterdam  1032 EC   123     6  4.915060   \n",
       "\n",
       "         Lat  \n",
       "0  52.352317  \n",
       "1  52.330330  \n",
       "2  52.393449  "
      ]
     },
     "execution_count": 9,
     "metadata": {},
     "output_type": "execute_result"
    }
   ],
   "source": [
    "data = pd.read_csv(\"./data/data_train.csv\")\n",
    "data.head(3)"
   ]
  },
  {
   "attachments": {},
   "cell_type": "markdown",
   "metadata": {},
   "source": [
    "**2. For supervised learning tasks, identify the target attribute(s)**"
   ]
  },
  {
   "cell_type": "code",
   "execution_count": 10,
   "metadata": {},
   "outputs": [],
   "source": [
    "TARGET = \"Price\""
   ]
  },
  {
   "attachments": {},
   "cell_type": "markdown",
   "metadata": {},
   "source": [
    "**3 Study each attribute and its characteristics:**"
   ]
  },
  {
   "attachments": {},
   "cell_type": "markdown",
   "metadata": {},
   "source": [
    "**3 a. Name**"
   ]
  },
  {
   "cell_type": "code",
   "execution_count": 11,
   "metadata": {},
   "outputs": [
    {
     "data": {
      "text/plain": [
       "Index(['Price', 'Address', 'Zip', 'Area', 'Room', 'Lon', 'Lat'], dtype='object')"
      ]
     },
     "execution_count": 11,
     "metadata": {},
     "output_type": "execute_result"
    }
   ],
   "source": [
    "data.columns"
   ]
  },
  {
   "attachments": {},
   "cell_type": "markdown",
   "metadata": {},
   "source": [
    "**3 b. For tabular data, define the data type of each variable, namely:**\n",
    "\n",
    "- `Nominal`: Named categories, e.g., `gender : ['Female', 'Male']`\n",
    "- `Ordinal`: Categories with an implied order, e.g. `quality : [Low, Medium, High]`\n",
    "- `Discrete`: Only particular numbers, e.g., `age: {1,2,3,...,58,59,60}`\n",
    "- `Continuous`: Any numerical value, e.g. `weight: {38.9,45.5}`\n",
    "    \n",
    "**Note 📝:** Nominal and ordinal data types are considered qualitative (**categorical**) features, whereas discrete and continuous data types are considered numerical (**quantitative**) features."
   ]
  },
  {
   "cell_type": "code",
   "execution_count": 12,
   "metadata": {},
   "outputs": [
    {
     "data": {
      "text/html": [
       "<div>\n",
       "<style scoped>\n",
       "    .dataframe tbody tr th:only-of-type {\n",
       "        vertical-align: middle;\n",
       "    }\n",
       "\n",
       "    .dataframe tbody tr th {\n",
       "        vertical-align: top;\n",
       "    }\n",
       "\n",
       "    .dataframe thead th {\n",
       "        text-align: right;\n",
       "    }\n",
       "</style>\n",
       "<table border=\"1\" class=\"dataframe\">\n",
       "  <thead>\n",
       "    <tr style=\"text-align: right;\">\n",
       "      <th></th>\n",
       "      <th>Price</th>\n",
       "      <th>Address</th>\n",
       "      <th>Zip</th>\n",
       "      <th>Area</th>\n",
       "      <th>Room</th>\n",
       "      <th>Lon</th>\n",
       "      <th>Lat</th>\n",
       "    </tr>\n",
       "  </thead>\n",
       "  <tbody>\n",
       "    <tr>\n",
       "      <th>0</th>\n",
       "      <td>425000.0</td>\n",
       "      <td>Lamarckhof 11 I, Amsterdam</td>\n",
       "      <td>1098 TK</td>\n",
       "      <td>68</td>\n",
       "      <td>3</td>\n",
       "      <td>4.944251</td>\n",
       "      <td>52.352317</td>\n",
       "    </tr>\n",
       "    <tr>\n",
       "      <th>1</th>\n",
       "      <td>520000.0</td>\n",
       "      <td>Kiefskamp 24, Amsterdam</td>\n",
       "      <td>1082 KA</td>\n",
       "      <td>80</td>\n",
       "      <td>2</td>\n",
       "      <td>4.872336</td>\n",
       "      <td>52.330330</td>\n",
       "    </tr>\n",
       "    <tr>\n",
       "      <th>2</th>\n",
       "      <td>700000.0</td>\n",
       "      <td>Latherusstraat 54, Amsterdam</td>\n",
       "      <td>1032 EC</td>\n",
       "      <td>123</td>\n",
       "      <td>6</td>\n",
       "      <td>4.915060</td>\n",
       "      <td>52.393449</td>\n",
       "    </tr>\n",
       "    <tr>\n",
       "      <th>3</th>\n",
       "      <td>295000.0</td>\n",
       "      <td>1e Kekerstraat 119, Amsterdam</td>\n",
       "      <td>1104 VA</td>\n",
       "      <td>91</td>\n",
       "      <td>3</td>\n",
       "      <td>4.981371</td>\n",
       "      <td>52.313749</td>\n",
       "    </tr>\n",
       "    <tr>\n",
       "      <th>4</th>\n",
       "      <td>650000.0</td>\n",
       "      <td>Nieuwevaartweg, Amsterdam</td>\n",
       "      <td>1019 AL</td>\n",
       "      <td>87</td>\n",
       "      <td>4</td>\n",
       "      <td>4.954376</td>\n",
       "      <td>52.367982</td>\n",
       "    </tr>\n",
       "  </tbody>\n",
       "</table>\n",
       "</div>"
      ],
      "text/plain": [
       "      Price                        Address      Zip  Area  Room       Lon  \\\n",
       "0  425000.0     Lamarckhof 11 I, Amsterdam  1098 TK    68     3  4.944251   \n",
       "1  520000.0        Kiefskamp 24, Amsterdam  1082 KA    80     2  4.872336   \n",
       "2  700000.0   Latherusstraat 54, Amsterdam  1032 EC   123     6  4.915060   \n",
       "3  295000.0  1e Kekerstraat 119, Amsterdam  1104 VA    91     3  4.981371   \n",
       "4  650000.0      Nieuwevaartweg, Amsterdam  1019 AL    87     4  4.954376   \n",
       "\n",
       "         Lat  \n",
       "0  52.352317  \n",
       "1  52.330330  \n",
       "2  52.393449  \n",
       "3  52.313749  \n",
       "4  52.367982  "
      ]
     },
     "execution_count": 12,
     "metadata": {},
     "output_type": "execute_result"
    }
   ],
   "source": [
    "data.head()"
   ]
  },
  {
   "cell_type": "code",
   "execution_count": 14,
   "metadata": {},
   "outputs": [
    {
     "data": {
      "text/html": [
       "<div>\n",
       "<style scoped>\n",
       "    .dataframe tbody tr th:only-of-type {\n",
       "        vertical-align: middle;\n",
       "    }\n",
       "\n",
       "    .dataframe tbody tr th {\n",
       "        vertical-align: top;\n",
       "    }\n",
       "\n",
       "    .dataframe thead th {\n",
       "        text-align: right;\n",
       "    }\n",
       "</style>\n",
       "<table border=\"1\" class=\"dataframe\">\n",
       "  <thead>\n",
       "    <tr style=\"text-align: right;\">\n",
       "      <th></th>\n",
       "      <th>Price</th>\n",
       "      <th>Address</th>\n",
       "      <th>Zip</th>\n",
       "      <th>Area</th>\n",
       "      <th>Room</th>\n",
       "      <th>Lon</th>\n",
       "      <th>Lat</th>\n",
       "    </tr>\n",
       "  </thead>\n",
       "  <tbody>\n",
       "    <tr>\n",
       "      <th>data_type</th>\n",
       "      <td>continuous</td>\n",
       "      <td>nominal</td>\n",
       "      <td>nominal</td>\n",
       "      <td>continuous</td>\n",
       "      <td>discrete</td>\n",
       "      <td>continuous</td>\n",
       "      <td>continuous</td>\n",
       "    </tr>\n",
       "  </tbody>\n",
       "</table>\n",
       "</div>"
      ],
      "text/plain": [
       "                Price  Address      Zip        Area      Room         Lon  \\\n",
       "data_type  continuous  nominal  nominal  continuous  discrete  continuous   \n",
       "\n",
       "                  Lat  \n",
       "data_type  continuous  "
      ]
     },
     "execution_count": 14,
     "metadata": {},
     "output_type": "execute_result"
    }
   ],
   "source": [
    "# wrap info in a dataframe\n",
    "df_datatype = pd.DataFrame.from_dict(\n",
    "    {\n",
    "        \"Price\": \"continuous\",  # <- This is our TARGET\n",
    "        \"Address\": \"nominal\",\n",
    "        \"Zip\": \"nominal\",\n",
    "        \"Area\": \"continuous\",\n",
    "        \"Room\": \"discrete\",\n",
    "        \"Lon\": \"continuous\",\n",
    "        \"Lat\": \"continuous\",\n",
    "    },\n",
    "    orient=\"index\",\n",
    "    columns=[\"data_type\"],\n",
    ")\n",
    "df_datatype.transpose()"
   ]
  },
  {
   "attachments": {},
   "cell_type": "markdown",
   "metadata": {},
   "source": [
    "**3 c. Percentage of missing values, namely** `np.NaN` \n",
    "- [missingno](https://github.com/ResidentMario/missingno) can be a useful tool for visualization;\n",
    "- make sure that missing values are encoded in a specific ways, e.g. `-1`, `\"?\"`\n"
   ]
  },
  {
   "cell_type": "code",
   "execution_count": 15,
   "metadata": {},
   "outputs": [
    {
     "name": "stdout",
     "output_type": "stream",
     "text": [
      "o 4 (0.04%) of missing values\n"
     ]
    }
   ],
   "source": [
    "print(\n",
    "    f\"o {data.isna().sum().sum()} ({data.isna().sum().sum()/data.shape[0]*data.shape[1]:.2f}%) of missing values\"\n",
    ")"
   ]
  },
  {
   "attachments": {},
   "cell_type": "markdown",
   "metadata": {},
   "source": [
    "Check if missing values are represented in a different way as in the description of the dataset it is stated that there are missing values."
   ]
  },
  {
   "cell_type": "code",
   "execution_count": 16,
   "metadata": {},
   "outputs": [
    {
     "name": "stdout",
     "output_type": "stream",
     "text": [
      "Because of the small dataset, we checked for abnormalities by a manual inspection.\n"
     ]
    }
   ],
   "source": [
    "print(\n",
    "    \"Because of the small dataset, we checked for abnormalities by a manual inspection.\"\n",
    ")"
   ]
  },
  {
   "cell_type": "code",
   "execution_count": 19,
   "metadata": {},
   "outputs": [
    {
     "data": {
      "text/html": [
       "<div>\n",
       "<style scoped>\n",
       "    .dataframe tbody tr th:only-of-type {\n",
       "        vertical-align: middle;\n",
       "    }\n",
       "\n",
       "    .dataframe tbody tr th {\n",
       "        vertical-align: top;\n",
       "    }\n",
       "\n",
       "    .dataframe thead th {\n",
       "        text-align: right;\n",
       "    }\n",
       "</style>\n",
       "<table border=\"1\" class=\"dataframe\">\n",
       "  <thead>\n",
       "    <tr style=\"text-align: right;\">\n",
       "      <th></th>\n",
       "      <th>Price</th>\n",
       "      <th>Address</th>\n",
       "      <th>Zip</th>\n",
       "      <th>Area</th>\n",
       "      <th>Room</th>\n",
       "      <th>Lon</th>\n",
       "      <th>Lat</th>\n",
       "    </tr>\n",
       "  </thead>\n",
       "  <tbody>\n",
       "    <tr>\n",
       "      <th>missing values</th>\n",
       "      <td>4</td>\n",
       "      <td>0</td>\n",
       "      <td>0</td>\n",
       "      <td>0</td>\n",
       "      <td>0</td>\n",
       "      <td>0</td>\n",
       "      <td>0</td>\n",
       "    </tr>\n",
       "  </tbody>\n",
       "</table>\n",
       "</div>"
      ],
      "text/plain": [
       "                Price  Address  Zip  Area  Room  Lon  Lat\n",
       "missing values      4        0    0     0     0    0    0"
      ]
     },
     "metadata": {},
     "output_type": "display_data"
    }
   ],
   "source": [
    "# store info as a dataframe\n",
    "df_missing_value = data.isna().sum().to_frame(name=\"missing values\")\n",
    "display(df_missing_value.transpose())"
   ]
  },
  {
   "cell_type": "code",
   "execution_count": 20,
   "metadata": {},
   "outputs": [
    {
     "data": {
      "text/html": [
       "<div>\n",
       "<style scoped>\n",
       "    .dataframe tbody tr th:only-of-type {\n",
       "        vertical-align: middle;\n",
       "    }\n",
       "\n",
       "    .dataframe tbody tr th {\n",
       "        vertical-align: top;\n",
       "    }\n",
       "\n",
       "    .dataframe thead th {\n",
       "        text-align: right;\n",
       "    }\n",
       "</style>\n",
       "<table border=\"1\" class=\"dataframe\">\n",
       "  <thead>\n",
       "    <tr style=\"text-align: right;\">\n",
       "      <th></th>\n",
       "      <th>Price</th>\n",
       "      <th>Address</th>\n",
       "      <th>Zip</th>\n",
       "      <th>Area</th>\n",
       "      <th>Room</th>\n",
       "      <th>Lon</th>\n",
       "      <th>Lat</th>\n",
       "    </tr>\n",
       "  </thead>\n",
       "  <tbody>\n",
       "    <tr>\n",
       "      <th>11</th>\n",
       "      <td>NaN</td>\n",
       "      <td>Haarlemmerweg 705, Amsterdam</td>\n",
       "      <td>1067 HP</td>\n",
       "      <td>366</td>\n",
       "      <td>12</td>\n",
       "      <td>4.787874</td>\n",
       "      <td>52.383877</td>\n",
       "    </tr>\n",
       "    <tr>\n",
       "      <th>132</th>\n",
       "      <td>NaN</td>\n",
       "      <td>Falckstraat 47 A, Amsterdam</td>\n",
       "      <td>1017 VV</td>\n",
       "      <td>147</td>\n",
       "      <td>3</td>\n",
       "      <td>4.897454</td>\n",
       "      <td>52.360707</td>\n",
       "    </tr>\n",
       "    <tr>\n",
       "      <th>456</th>\n",
       "      <td>NaN</td>\n",
       "      <td>Zeeburgerkade 760, Amsterdam</td>\n",
       "      <td>1019 HT</td>\n",
       "      <td>107</td>\n",
       "      <td>3</td>\n",
       "      <td>4.945022</td>\n",
       "      <td>52.369244</td>\n",
       "    </tr>\n",
       "    <tr>\n",
       "      <th>593</th>\n",
       "      <td>NaN</td>\n",
       "      <td>Suikerplein 16, Amsterdam</td>\n",
       "      <td>1013 CK</td>\n",
       "      <td>81</td>\n",
       "      <td>3</td>\n",
       "      <td>4.880976</td>\n",
       "      <td>52.389623</td>\n",
       "    </tr>\n",
       "  </tbody>\n",
       "</table>\n",
       "</div>"
      ],
      "text/plain": [
       "     Price                       Address      Zip  Area  Room       Lon  \\\n",
       "11     NaN  Haarlemmerweg 705, Amsterdam  1067 HP   366    12  4.787874   \n",
       "132    NaN   Falckstraat 47 A, Amsterdam  1017 VV   147     3  4.897454   \n",
       "456    NaN  Zeeburgerkade 760, Amsterdam  1019 HT   107     3  4.945022   \n",
       "593    NaN     Suikerplein 16, Amsterdam  1013 CK    81     3  4.880976   \n",
       "\n",
       "           Lat  \n",
       "11   52.383877  \n",
       "132  52.360707  \n",
       "456  52.369244  \n",
       "593  52.389623  "
      ]
     },
     "metadata": {},
     "output_type": "display_data"
    }
   ],
   "source": [
    "# print samlples with missing values\n",
    "display(data[data.isna().any(axis=1)])"
   ]
  },
  {
   "attachments": {},
   "cell_type": "markdown",
   "metadata": {},
   "source": [
    "**3 d. Check any duplicates and discard them**"
   ]
  },
  {
   "cell_type": "code",
   "execution_count": 21,
   "metadata": {},
   "outputs": [
    {
     "name": "stdout",
     "output_type": "stream",
     "text": [
      "o 0 (0.000%) of duplicate values\n"
     ]
    }
   ],
   "source": [
    "# check if there are duplicated rows in the dataset\n",
    "print(\n",
    "    f\"o {data.duplicated().sum()} ({data.duplicated().sum()/len(data):.3f}%) of duplicate values\"\n",
    ")"
   ]
  },
  {
   "attachments": {},
   "cell_type": "markdown",
   "metadata": {},
   "source": [
    "**3 e. Noisiness and type of noise e.g. stochastic, rounding errors, etc.** (might require business knowledge)\n"
   ]
  },
  {
   "cell_type": "code",
   "execution_count": 22,
   "metadata": {},
   "outputs": [],
   "source": [
    "# Let us assume that we have noise-free features\n",
    "df_type_noise = pd.DataFrame(\n",
    "    data={\"type of noise\": len(data.columns) * [\"noise-free\"]}, index=data.columns\n",
    ")"
   ]
  },
  {
   "attachments": {},
   "cell_type": "markdown",
   "metadata": {},
   "source": [
    "**3 f. Type of distribution (Gaussian, Poisson, etc.). Check [here](https://www.itl.nist.gov/div898/handbook/eda/section3/eda366.htm) for common type of distributions**. \n",
    "\n",
    "It is recommended to visualize each feature  🕵️📊\n"
   ]
  },
  {
   "cell_type": "code",
   "execution_count": 23,
   "metadata": {},
   "outputs": [
    {
     "data": {
      "text/plain": [
       "array(['continuous', 'nominal', 'discrete'], dtype=object)"
      ]
     },
     "execution_count": 23,
     "metadata": {},
     "output_type": "execute_result"
    }
   ],
   "source": [
    "# let's visualize the data per datatype\n",
    "df_datatype[\"data_type\"].unique()"
   ]
  },
  {
   "attachments": {},
   "cell_type": "markdown",
   "metadata": {},
   "source": [
    "Visualize **nominal** distributions"
   ]
  },
  {
   "cell_type": "code",
   "execution_count": 24,
   "metadata": {},
   "outputs": [
    {
     "name": "stdout",
     "output_type": "stream",
     "text": [
      "Index(['Address', 'Zip'], dtype='object')\n",
      "o 2 nominal features\n",
      "NOTE: We will skip for now the visualization of nominal features as we do not have a good way to visualize them.\n"
     ]
    }
   ],
   "source": [
    "# get list with nominal features, only\n",
    "list_nominal = df_datatype.loc[lambda x: x[\"data_type\"] == \"nominal\"].index\n",
    "print(list_nominal)\n",
    "print(f\"o {len(list_nominal)} nominal features\")\n",
    "\n",
    "print(\n",
    "    \"NOTE: We will skip for now the visualization of nominal features as we do not have a good way to visualize them.\"\n",
    ")"
   ]
  },
  {
   "attachments": {},
   "cell_type": "markdown",
   "metadata": {},
   "source": [
    "Visualize **ordinal** distributions"
   ]
  },
  {
   "cell_type": "code",
   "execution_count": 25,
   "metadata": {},
   "outputs": [
    {
     "name": "stdout",
     "output_type": "stream",
     "text": [
      "Index([], dtype='object')\n",
      "o 0 ordinal features\n"
     ]
    }
   ],
   "source": [
    "# get list with ordinal features, only\n",
    "list_ordinal = df_datatype.loc[lambda x: x[\"data_type\"] == \"ordinal\"].index\n",
    "print(list_ordinal)\n",
    "print(f\"o {len(list_ordinal)} ordinal features\")"
   ]
  },
  {
   "attachments": {},
   "cell_type": "markdown",
   "metadata": {},
   "source": [
    "Visualize **discrete** distributions"
   ]
  },
  {
   "cell_type": "code",
   "execution_count": 26,
   "metadata": {},
   "outputs": [
    {
     "name": "stdout",
     "output_type": "stream",
     "text": [
      "Index(['Room'], dtype='object')\n",
      "o 1 discrete features\n"
     ]
    }
   ],
   "source": [
    "# get list with discrete features, only\n",
    "list_discrete = df_datatype.loc[lambda x: x[\"data_type\"] == \"discrete\"].index\n",
    "print(list_discrete)\n",
    "print(f\"o {len(list_discrete)} discrete features\")"
   ]
  },
  {
   "cell_type": "code",
   "execution_count": 27,
   "metadata": {},
   "outputs": [
    {
     "data": {
      "text/plain": [
       "<Axes: xlabel='Room', ylabel='Count'>"
      ]
     },
     "execution_count": 27,
     "metadata": {},
     "output_type": "execute_result"
    },
    {
     "data": {
      "image/png": "[encoded data removed]",
      "text/plain": [
       "<Figure size 640x480 with 1 Axes>"
      ]
     },
     "metadata": {},
     "output_type": "display_data"
    }
   ],
   "source": [
    "# create subplot with 9 plots\n",
    "sns.histplot(data=data, x=list_discrete[0], binwidth=3, bins=40, discrete=True)"
   ]
  },
  {
   "attachments": {},
   "cell_type": "markdown",
   "metadata": {},
   "source": [
    "Visualize **continuous** distributions"
   ]
  },
  {
   "cell_type": "code",
   "execution_count": 37,
   "metadata": {},
   "outputs": [
    {
     "name": "stdout",
     "output_type": "stream",
     "text": [
      "Index(['Price', 'Area', 'Lon', 'Lat'], dtype='object')\n",
      "o 4 continuous features\n"
     ]
    }
   ],
   "source": [
    "# get list with numerical features, only\n",
    "list_continuous = df_datatype.loc[lambda x: x[\"data_type\"] == \"continuous\"].index\n",
    "print(list_continuous)\n",
    "print(f\"o {len(list_continuous)} continuous features\")"
   ]
  },
  {
   "cell_type": "code",
   "execution_count": 42,
   "metadata": {},
   "outputs": [
    {
     "data": {
      "image/png": "[encoded data removed]",
      "text/plain": [
       "<Figure size 1000x400 with 4 Axes>"
      ]
     },
     "metadata": {},
     "output_type": "display_data"
    }
   ],
   "source": [
    "# create subplots with 4 plots\n",
    "fig, axs = plt.subplots(nrows=1, ncols=4, figsize=(10, 4))\n",
    "fig.tight_layout(w_pad=1.0)\n",
    "\n",
    "for i in range(0, axs.shape[0]):\n",
    "    sns.histplot(data=data, x=list_continuous[i], discrete=False, ax=axs[i])"
   ]
  },
  {
   "attachments": {},
   "cell_type": "markdown",
   "metadata": {},
   "source": [
    "We obseve that the features `Price` and `Area` are highly skewed. Conversely `Lon` and `Lat` are fairly normally distributed."
   ]
  },
  {
   "attachments": {},
   "cell_type": "markdown",
   "metadata": {},
   "source": [
    "**3 f. Examine outliers for discrete and numerical features and check whether they make sense** (might require business knowledge);\n",
    "\n",
    "Note 📝: A common way to identify outliers is by considering all $ \\mathrm{samples} > 3 \\cdot std$ (if you want to be more conservative you can consider $4 \\cdot std$ as threshold).\n"
   ]
  },
  {
   "cell_type": "code",
   "execution_count": 43,
   "metadata": {},
   "outputs": [
    {
     "data": {
      "text/html": [
       "<div>\n",
       "<style scoped>\n",
       "    .dataframe tbody tr th:only-of-type {\n",
       "        vertical-align: middle;\n",
       "    }\n",
       "\n",
       "    .dataframe tbody tr th {\n",
       "        vertical-align: top;\n",
       "    }\n",
       "\n",
       "    .dataframe thead th {\n",
       "        text-align: right;\n",
       "    }\n",
       "</style>\n",
       "<table border=\"1\" class=\"dataframe\">\n",
       "  <thead>\n",
       "    <tr style=\"text-align: right;\">\n",
       "      <th></th>\n",
       "      <th>mean</th>\n",
       "      <th>3xstd</th>\n",
       "      <th>n outlier (3 x std)</th>\n",
       "      <th>% outlier (3 x std)</th>\n",
       "    </tr>\n",
       "  </thead>\n",
       "  <tbody>\n",
       "    <tr>\n",
       "      <th>Room</th>\n",
       "      <td>3.55</td>\n",
       "      <td>4.58</td>\n",
       "      <td>10</td>\n",
       "      <td>1.0%</td>\n",
       "    </tr>\n",
       "    <tr>\n",
       "      <th>Price</th>\n",
       "      <td>605929.67</td>\n",
       "      <td>1456688.11</td>\n",
       "      <td>11</td>\n",
       "      <td>1.0%</td>\n",
       "    </tr>\n",
       "    <tr>\n",
       "      <th>Area</th>\n",
       "      <td>94.41</td>\n",
       "      <td>159.57</td>\n",
       "      <td>13</td>\n",
       "      <td>2.0%</td>\n",
       "    </tr>\n",
       "    <tr>\n",
       "      <th>Lon</th>\n",
       "      <td>4.89</td>\n",
       "      <td>0.16</td>\n",
       "      <td>0</td>\n",
       "      <td>0.0%</td>\n",
       "    </tr>\n",
       "    <tr>\n",
       "      <th>Lat</th>\n",
       "      <td>52.36</td>\n",
       "      <td>0.07</td>\n",
       "      <td>0</td>\n",
       "      <td>0.0%</td>\n",
       "    </tr>\n",
       "  </tbody>\n",
       "</table>\n",
       "</div>"
      ],
      "text/plain": [
       "            mean       3xstd  n outlier (3 x std) % outlier (3 x std)\n",
       "Room        3.55        4.58                   10                1.0%\n",
       "Price  605929.67  1456688.11                   11                1.0%\n",
       "Area       94.41      159.57                   13                2.0%\n",
       "Lon         4.89        0.16                    0                0.0%\n",
       "Lat        52.36        0.07                    0                0.0%"
      ]
     },
     "metadata": {},
     "output_type": "display_data"
    },
    {
     "name": "stdout",
     "output_type": "stream",
     "text": [
      "Note: outliers are defined e.g. as values above the mean + 3 x std\n"
     ]
    }
   ],
   "source": [
    "# initialize empty dataframe\n",
    "df_outlier = pd.DataFrame()\n",
    "\n",
    "# select threshold between {3,4}\n",
    "thr = 3\n",
    "\n",
    "# generate summary of outlier\n",
    "for feat in list(list_discrete) + list(list_continuous):\n",
    "    df_outlier = pd.concat(\n",
    "        [\n",
    "            df_outlier,\n",
    "            pd.DataFrame(\n",
    "                data={\n",
    "                    f\"mean\": round(data[feat].mean(), 2),\n",
    "                    f\"{thr}xstd\": round(thr * data[feat].std(), 2),\n",
    "                    f\"n outlier ({thr} x std)\": data.loc[\n",
    "                        lambda x: x[feat] > x[feat].mean() + thr * x[feat].std(), feat\n",
    "                    ].count(),\n",
    "                    f\"% outlier ({thr} x std)\": str(\n",
    "                        round(\n",
    "                            data.loc[\n",
    "                                lambda x: x[feat]\n",
    "                                > x[feat].mean() + thr * x[feat].std(),\n",
    "                                feat,\n",
    "                            ].count()\n",
    "                            / data.shape[0],\n",
    "                            2,\n",
    "                        )\n",
    "                        * 100\n",
    "                    )\n",
    "                    + \"%\",\n",
    "                },\n",
    "                index=[feat],\n",
    "            ),\n",
    "        ]\n",
    "    )\n",
    "\n",
    "display(df_outlier)\n",
    "print(\"Note: outliers are defined e.g. as values above the mean + 3 x std\")"
   ]
  },
  {
   "attachments": {},
   "cell_type": "markdown",
   "metadata": {},
   "source": [
    "**EDA summary**\n",
    "\n",
    "4. Annotate all information from EDA, e.g.\n",
    "    - type of data;\n",
    "    - if there are missing values and how to deal with them;\n",
    "    - the ratio of facets for categorical features;\n",
    "    - the type of distribution;  \n",
    "    - Identify the promising transformations you may want to apply (e.g. log-transformation for highly skewed distribution and\\or cluster facets to mitigate group imbalance);\n",
    "5. Identify extra data that would be useful;\n",
    "6. Document analysis and send to manager and/or customer.\n"
   ]
  },
  {
   "cell_type": "code",
   "execution_count": 44,
   "metadata": {},
   "outputs": [
    {
     "data": {
      "text/html": [
       "<div>\n",
       "<style scoped>\n",
       "    .dataframe tbody tr th:only-of-type {\n",
       "        vertical-align: middle;\n",
       "    }\n",
       "\n",
       "    .dataframe tbody tr th {\n",
       "        vertical-align: top;\n",
       "    }\n",
       "\n",
       "    .dataframe thead th {\n",
       "        text-align: right;\n",
       "    }\n",
       "</style>\n",
       "<table border=\"1\" class=\"dataframe\">\n",
       "  <thead>\n",
       "    <tr style=\"text-align: right;\">\n",
       "      <th></th>\n",
       "      <th>Price</th>\n",
       "      <th>Address</th>\n",
       "      <th>Zip</th>\n",
       "      <th>Area</th>\n",
       "      <th>Room</th>\n",
       "      <th>Lon</th>\n",
       "      <th>Lat</th>\n",
       "    </tr>\n",
       "  </thead>\n",
       "  <tbody>\n",
       "    <tr>\n",
       "      <th>data_type</th>\n",
       "      <td>continuous</td>\n",
       "      <td>nominal</td>\n",
       "      <td>nominal</td>\n",
       "      <td>continuous</td>\n",
       "      <td>discrete</td>\n",
       "      <td>continuous</td>\n",
       "      <td>continuous</td>\n",
       "    </tr>\n",
       "    <tr>\n",
       "      <th>missing values</th>\n",
       "      <td>4</td>\n",
       "      <td>0</td>\n",
       "      <td>0</td>\n",
       "      <td>0</td>\n",
       "      <td>0</td>\n",
       "      <td>0</td>\n",
       "      <td>0</td>\n",
       "    </tr>\n",
       "    <tr>\n",
       "      <th>type of noise</th>\n",
       "      <td>noise-free</td>\n",
       "      <td>noise-free</td>\n",
       "      <td>noise-free</td>\n",
       "      <td>noise-free</td>\n",
       "      <td>noise-free</td>\n",
       "      <td>noise-free</td>\n",
       "      <td>noise-free</td>\n",
       "    </tr>\n",
       "  </tbody>\n",
       "</table>\n",
       "</div>"
      ],
      "text/plain": [
       "                     Price     Address         Zip        Area        Room  \\\n",
       "data_type       continuous     nominal     nominal  continuous    discrete   \n",
       "missing values           4           0           0           0           0   \n",
       "type of noise   noise-free  noise-free  noise-free  noise-free  noise-free   \n",
       "\n",
       "                       Lon         Lat  \n",
       "data_type       continuous  continuous  \n",
       "missing values           0           0  \n",
       "type of noise   noise-free  noise-free  "
      ]
     },
     "metadata": {},
     "output_type": "display_data"
    }
   ],
   "source": [
    "# get summary table and store as a csv\n",
    "data_info = df_datatype.join(df_missing_value).join(df_type_noise)\n",
    "display(data_info.transpose())\n",
    "data_info.to_csv(\"./data/data_info.csv\")"
   ]
  },
  {
   "cell_type": "code",
   "execution_count": 61,
   "metadata": {},
   "outputs": [
    {
     "name": "stdout",
     "output_type": "stream",
     "text": [
      "o Dutch House Price has a mean (std) of 605929 (485562) EUR\n",
      "o The Median value of Price is 465000 EUR\n",
      "o The Mininum value of Price is 175000 EUR with an Area of 28 m2 and 1 room\n",
      "o The Mininum value of Price is 5950000 EUR with an Area of 394 m2 and 10 room\n",
      "o 25% and 75% of the Dutch House Price are 350000 and 688750 EUR, respectively\n"
     ]
    }
   ],
   "source": [
    "# Quantify the summary statistics of the target\n",
    "\n",
    "print(\n",
    "    f\"o Dutch House {TARGET} has a mean (std) of {int(data[TARGET].mean())} ({int(data[TARGET].std())}) EUR\"\n",
    ")\n",
    "print(f\"o The Median value of {TARGET} is {int(data[TARGET].median())} EUR\")\n",
    "print(\n",
    "    f\"o The Mininum value of {TARGET} is {int(data[TARGET].min())} EUR with an Area of {data.loc[data[TARGET].idxmin(), 'Area']} m2 and {data.loc[data[TARGET].idxmin(), 'Room']} room\"\n",
    ")\n",
    "print(\n",
    "    f\"o The Maximum value of {TARGET} is {int(data[TARGET].max())} EUR with an Area of {data.loc[data[TARGET].idxmax(), 'Area']} m2 and {data.loc[data[TARGET].idxmax(), 'Room']} room\"\n",
    ")\n",
    "print(\n",
    "    f\"o 25% and 75% of the Dutch House {TARGET} are {int(data[TARGET].quantile(0.25))} and {int(data[TARGET].quantile(0.75))} EUR, respectively\"\n",
    ")\n",
    "\n",
    "# Note: watch out to string having leading or trailing spaces"
   ]
  },
  {
   "attachments": {},
   "cell_type": "markdown",
   "metadata": {},
   "source": [
    "**Summary**\n",
    "\n",
    "- Target: `Price` is highly skewed as the median value differs significantly from its mean;\n",
    "- There are 2 nominal, 4 continuous and 1 discrete feature;\n",
    "- There are 4 (0.04%) missing values, and they arise all in the target; \n",
    "- The Nominal features, i.e., `Adress` and `Zip`, will require some feature engineering to increase the predictive power of these features.\n",
    "- `Lat` and `Lon` are expected to be combined somehow using feature engineering techniques; \n",
    "- `Area` as well as `Price` are highly skewed; hence we expect to apply a log transformation to normalise such features;"
   ]
  }
 ],
 "metadata": {
  "kernelspec": {
   "display_name": "my-env",
   "language": "python",
   "name": "python3"
  },
  "language_info": {
   "codemirror_mode": {
    "name": "ipython",
    "version": 3
   },
   "file_extension": ".py",
   "mimetype": "text/x-python",
   "name": "python",
   "nbconvert_exporter": "python",
   "pygments_lexer": "ipython3",
   "version": "3.9.16"
  },
  "orig_nbformat": 4
 },
 "nbformat": 4,
 "nbformat_minor": 2
}
